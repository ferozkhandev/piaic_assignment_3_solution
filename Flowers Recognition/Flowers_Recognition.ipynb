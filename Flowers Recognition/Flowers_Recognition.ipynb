{
 "cells": [
  {
   "cell_type": "markdown",
   "metadata": {
    "id": "BXgJ6uT1NydQ"
   },
   "source": [
    "Assignment: Flowers Recognition <br>\r\n",
    "Dataset Description:<br>\r\n",
    "\r\n",
    "This dataset contains 4242 images of flowers.<br>\r\n",
    "The data collection is based on the data flicr, google images, yandex images.<br>\r\n",
    "You can use this datastet to recognize plants from the photo.<br>\r\n",
    "\r\n",
    "Attribute Information:<br>\r\n",
    "The pictures are divided into five classes: chamomile, tulip, rose, sunflower, dandelion.<br>\r\n",
    "For each class there are about 800 photos. Photos are not high resolution, about 320x240 pixels. <br>\r\n",
    "<b>Also explore how to resize images in tensorflow and then resize all the images to a same size. </b> <br>\r\n",
    "This is a Multiclass Classification Problem.<br>\r\n",
    "\r\n",
    "\r\n"
   ]
  },
  {
   "cell_type": "markdown",
   "metadata": {
    "id": "T7vy-ktuOKJH"
   },
   "source": [
    "WORKFLOW : <br>\r\n",
    "Load Data <br>\r\n",
    "Split into 60 and 40 ratio.<br>\r\n",
    "Encode labels.<br>\r\n",
    "Create Model<br>\r\n",
    "Compilation Step (Note : Its a Multiclass Classification problem , select loss , metrics according to it)<br>\r\n",
    "Train the Model.<br>\r\n",
    "If the model gets overfit tune your model by changing the units , No. of layers , epochs , add dropout layer or add Regularizer according to the need .<br>\r\n",
    "Prediction should be > 85%<br>\r\n",
    "Evaluation Step<br>\r\n",
    "Prediction<br>\r\n",
    "\r\n",
    "\r\n"
   ]
  },
  {
   "cell_type": "markdown",
   "metadata": {
    "id": "ri3Bg5qfPRic"
   },
   "source": [
    "Data : <br>\r\n",
    "https://drive.google.com/file/d/1-OX6wn5gA-bJpjPNfSyaYQLz-A-AB_uj/view?usp=sharing"
   ]
  },
  {
   "cell_type": "code",
   "execution_count": null,
   "metadata": {
    "id": "hTtg3WuGTA1o"
   },
   "outputs": [],
   "source": []
  }
 ],
 "metadata": {
  "colab": {
   "name": "Flowers Recognition.ipynb",
   "provenance": []
  },
  "kernelspec": {
   "display_name": "Python 3",
   "language": "python",
   "name": "python3"
  },
  "language_info": {
   "codemirror_mode": {
    "name": "ipython",
    "version": 3
   },
   "file_extension": ".py",
   "mimetype": "text/x-python",
   "name": "python",
   "nbconvert_exporter": "python",
   "pygments_lexer": "ipython3",
   "version": "3.8.6rc1"
  }
 },
 "nbformat": 4,
 "nbformat_minor": 4
}
