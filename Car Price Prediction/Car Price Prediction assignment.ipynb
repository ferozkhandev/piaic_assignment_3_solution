{
 "cells": [
  {
   "cell_type": "markdown",
   "metadata": {
    "id": "-3LjXdx2CUbO"
   },
   "source": [
    "# Car Price Prediction::"
   ]
  },
  {
   "cell_type": "markdown",
   "metadata": {
    "id": "qGPxR-CgCUbR"
   },
   "source": [
    "Download dataset from this link:\n",
    "\n",
    "https://www.kaggle.com/hellbuoy/car-price-prediction"
   ]
  },
  {
   "cell_type": "markdown",
   "metadata": {
    "id": "BuYh2b2mCUbS"
   },
   "source": [
    "# Problem Statement::"
   ]
  },
  {
   "cell_type": "markdown",
   "metadata": {
    "id": "jvo8su1LCUbT"
   },
   "source": [
    "A Chinese automobile company Geely Auto aspires to enter the US market by setting up their manufacturing unit there and producing cars locally to give competition to their US and European counterparts.\n",
    "\n",
    "They have contracted an automobile consulting company to understand the factors on which the pricing of cars depends. Specifically, they want to understand the factors affecting the pricing of cars in the American market, since those may be very different from the Chinese market. The company wants to know:\n",
    "\n",
    "Which variables are significant in predicting the price of a car\n",
    "How well those variables describe the price of a car\n",
    "Based on various market surveys, the consulting firm has gathered a large data set of different types of cars across the America market.\n",
    "\n",
    "# task::\n",
    "We are required to model the price of cars with the available independent variables. It will be used by the management to understand how exactly the prices vary with the independent variables. They can accordingly manipulate the design of the cars, the business strategy etc. to meet certain price levels. Further, the model will be a good way for management to understand the pricing dynamics of a new market."
   ]
  },
  {
   "cell_type": "markdown",
   "metadata": {
    "id": "Jjzvn_ndCUbU"
   },
   "source": [
    "# WORKFLOW ::"
   ]
  },
  {
   "cell_type": "markdown",
   "metadata": {
    "id": "9Th13KZkCUbV"
   },
   "source": [
    "1.Load Data\n",
    "\n",
    "2.Check Missing Values ( If Exist ; Fill each record with mean of its feature )\n",
    "\n",
    "3.Split into 50% Training(Samples,Labels) , 30% Test(Samples,Labels) and 20% Validation Data(Samples,Labels).\n",
    "\n",
    "4.Model : input Layer (No. of features ), 3 hidden layers including 10,8,6 unit & Output Layer with activation function relu/tanh (check by experiment).\n",
    "\n",
    "5.Compilation Step (Note : Its a Regression problem , select loss , metrics according to it)\n",
    "6.Train the Model with Epochs (100) and validate it\n",
    "\n",
    "7.If the model gets overfit tune your model by changing the units , No. of layers , activation function , epochs , add dropout layer or add Regularizer according to the need .\n",
    "\n",
    "8.Evaluation Step\n",
    "\n",
    "9.Prediction"
   ]
  },
  {
   "cell_type": "code",
   "execution_count": 35,
   "metadata": {
    "id": "ZFRqn3SWCUbV"
   },
   "outputs": [],
   "source": [
    "import numpy as np\n",
    "import pandas as pd\n",
    "import matplotlib.pyplot as plt\n",
    "\n",
    "from sklearn.model_selection import train_test_split\n",
    "from sklearn.preprocessing import OneHotEncoder\n",
    "from sklearn.preprocessing import OrdinalEncoder\n",
    "\n",
    "from sklearn.compose import make_column_transformer\n",
    "from sklearn.linear_model import LinearRegression\n",
    "from sklearn.pipeline import make_pipeline\n",
    "from sklearn.model_selection import cross_val_score\n",
    "\n",
    "from tensorflow.keras.models import Sequential\n",
    "from tensorflow.keras.layers import Dense"
   ]
  },
  {
   "cell_type": "code",
   "execution_count": 36,
   "metadata": {
    "colab": {
     "base_uri": "https://localhost:8080/",
     "height": 275
    },
    "id": "4cqNHzCdCUbX",
    "outputId": "2a1b3c93-bb64-4bba-f159-997275a3892f"
   },
   "outputs": [
    {
     "data": {
      "text/html": [
       "<div>\n",
       "<style scoped>\n",
       "    .dataframe tbody tr th:only-of-type {\n",
       "        vertical-align: middle;\n",
       "    }\n",
       "\n",
       "    .dataframe tbody tr th {\n",
       "        vertical-align: top;\n",
       "    }\n",
       "\n",
       "    .dataframe thead th {\n",
       "        text-align: right;\n",
       "    }\n",
       "</style>\n",
       "<table border=\"1\" class=\"dataframe\">\n",
       "  <thead>\n",
       "    <tr style=\"text-align: right;\">\n",
       "      <th></th>\n",
       "      <th>car_ID</th>\n",
       "      <th>symboling</th>\n",
       "      <th>CarName</th>\n",
       "      <th>fueltype</th>\n",
       "      <th>aspiration</th>\n",
       "      <th>doornumber</th>\n",
       "      <th>carbody</th>\n",
       "      <th>drivewheel</th>\n",
       "      <th>enginelocation</th>\n",
       "      <th>wheelbase</th>\n",
       "      <th>...</th>\n",
       "      <th>enginesize</th>\n",
       "      <th>fuelsystem</th>\n",
       "      <th>boreratio</th>\n",
       "      <th>stroke</th>\n",
       "      <th>compressionratio</th>\n",
       "      <th>horsepower</th>\n",
       "      <th>peakrpm</th>\n",
       "      <th>citympg</th>\n",
       "      <th>highwaympg</th>\n",
       "      <th>price</th>\n",
       "    </tr>\n",
       "  </thead>\n",
       "  <tbody>\n",
       "    <tr>\n",
       "      <th>0</th>\n",
       "      <td>1</td>\n",
       "      <td>3</td>\n",
       "      <td>alfa-romero giulia</td>\n",
       "      <td>gas</td>\n",
       "      <td>std</td>\n",
       "      <td>two</td>\n",
       "      <td>convertible</td>\n",
       "      <td>rwd</td>\n",
       "      <td>front</td>\n",
       "      <td>88.6</td>\n",
       "      <td>...</td>\n",
       "      <td>130</td>\n",
       "      <td>mpfi</td>\n",
       "      <td>3.47</td>\n",
       "      <td>2.68</td>\n",
       "      <td>9.0</td>\n",
       "      <td>111</td>\n",
       "      <td>5000</td>\n",
       "      <td>21</td>\n",
       "      <td>27</td>\n",
       "      <td>13495.0</td>\n",
       "    </tr>\n",
       "    <tr>\n",
       "      <th>1</th>\n",
       "      <td>2</td>\n",
       "      <td>3</td>\n",
       "      <td>alfa-romero stelvio</td>\n",
       "      <td>gas</td>\n",
       "      <td>std</td>\n",
       "      <td>two</td>\n",
       "      <td>convertible</td>\n",
       "      <td>rwd</td>\n",
       "      <td>front</td>\n",
       "      <td>88.6</td>\n",
       "      <td>...</td>\n",
       "      <td>130</td>\n",
       "      <td>mpfi</td>\n",
       "      <td>3.47</td>\n",
       "      <td>2.68</td>\n",
       "      <td>9.0</td>\n",
       "      <td>111</td>\n",
       "      <td>5000</td>\n",
       "      <td>21</td>\n",
       "      <td>27</td>\n",
       "      <td>16500.0</td>\n",
       "    </tr>\n",
       "    <tr>\n",
       "      <th>2</th>\n",
       "      <td>3</td>\n",
       "      <td>1</td>\n",
       "      <td>alfa-romero Quadrifoglio</td>\n",
       "      <td>gas</td>\n",
       "      <td>std</td>\n",
       "      <td>two</td>\n",
       "      <td>hatchback</td>\n",
       "      <td>rwd</td>\n",
       "      <td>front</td>\n",
       "      <td>94.5</td>\n",
       "      <td>...</td>\n",
       "      <td>152</td>\n",
       "      <td>mpfi</td>\n",
       "      <td>2.68</td>\n",
       "      <td>3.47</td>\n",
       "      <td>9.0</td>\n",
       "      <td>154</td>\n",
       "      <td>5000</td>\n",
       "      <td>19</td>\n",
       "      <td>26</td>\n",
       "      <td>16500.0</td>\n",
       "    </tr>\n",
       "    <tr>\n",
       "      <th>3</th>\n",
       "      <td>4</td>\n",
       "      <td>2</td>\n",
       "      <td>audi 100 ls</td>\n",
       "      <td>gas</td>\n",
       "      <td>std</td>\n",
       "      <td>four</td>\n",
       "      <td>sedan</td>\n",
       "      <td>fwd</td>\n",
       "      <td>front</td>\n",
       "      <td>99.8</td>\n",
       "      <td>...</td>\n",
       "      <td>109</td>\n",
       "      <td>mpfi</td>\n",
       "      <td>3.19</td>\n",
       "      <td>3.40</td>\n",
       "      <td>10.0</td>\n",
       "      <td>102</td>\n",
       "      <td>5500</td>\n",
       "      <td>24</td>\n",
       "      <td>30</td>\n",
       "      <td>13950.0</td>\n",
       "    </tr>\n",
       "    <tr>\n",
       "      <th>4</th>\n",
       "      <td>5</td>\n",
       "      <td>2</td>\n",
       "      <td>audi 100ls</td>\n",
       "      <td>gas</td>\n",
       "      <td>std</td>\n",
       "      <td>four</td>\n",
       "      <td>sedan</td>\n",
       "      <td>4wd</td>\n",
       "      <td>front</td>\n",
       "      <td>99.4</td>\n",
       "      <td>...</td>\n",
       "      <td>136</td>\n",
       "      <td>mpfi</td>\n",
       "      <td>3.19</td>\n",
       "      <td>3.40</td>\n",
       "      <td>8.0</td>\n",
       "      <td>115</td>\n",
       "      <td>5500</td>\n",
       "      <td>18</td>\n",
       "      <td>22</td>\n",
       "      <td>17450.0</td>\n",
       "    </tr>\n",
       "  </tbody>\n",
       "</table>\n",
       "<p>5 rows × 26 columns</p>\n",
       "</div>"
      ],
      "text/plain": [
       "   car_ID  symboling                   CarName fueltype aspiration doornumber  \\\n",
       "0       1          3        alfa-romero giulia      gas        std        two   \n",
       "1       2          3       alfa-romero stelvio      gas        std        two   \n",
       "2       3          1  alfa-romero Quadrifoglio      gas        std        two   \n",
       "3       4          2               audi 100 ls      gas        std       four   \n",
       "4       5          2                audi 100ls      gas        std       four   \n",
       "\n",
       "       carbody drivewheel enginelocation  wheelbase  ...  enginesize  \\\n",
       "0  convertible        rwd          front       88.6  ...         130   \n",
       "1  convertible        rwd          front       88.6  ...         130   \n",
       "2    hatchback        rwd          front       94.5  ...         152   \n",
       "3        sedan        fwd          front       99.8  ...         109   \n",
       "4        sedan        4wd          front       99.4  ...         136   \n",
       "\n",
       "   fuelsystem  boreratio  stroke compressionratio horsepower  peakrpm citympg  \\\n",
       "0        mpfi       3.47    2.68              9.0        111     5000      21   \n",
       "1        mpfi       3.47    2.68              9.0        111     5000      21   \n",
       "2        mpfi       2.68    3.47              9.0        154     5000      19   \n",
       "3        mpfi       3.19    3.40             10.0        102     5500      24   \n",
       "4        mpfi       3.19    3.40              8.0        115     5500      18   \n",
       "\n",
       "   highwaympg    price  \n",
       "0          27  13495.0  \n",
       "1          27  16500.0  \n",
       "2          26  16500.0  \n",
       "3          30  13950.0  \n",
       "4          22  17450.0  \n",
       "\n",
       "[5 rows x 26 columns]"
      ]
     },
     "execution_count": 36,
     "metadata": {},
     "output_type": "execute_result"
    }
   ],
   "source": [
    "df = pd.read_csv(\"C:\\\\Users\\\\meesn\\\\workspace\\\\piaic 3rd assignment\\\\Car Price Prediction\\\\CarPrice_Assignment.csv\")\n",
    "df.head()"
   ]
  },
  {
   "cell_type": "code",
   "execution_count": 37,
   "metadata": {
    "colab": {
     "base_uri": "https://localhost:8080/"
    },
    "id": "fAojbcOjgtsb",
    "outputId": "718a658d-44aa-4262-8a6b-e954ca8c17cf"
   },
   "outputs": [
    {
     "data": {
      "text/plain": [
       "(205, 26)"
      ]
     },
     "execution_count": 37,
     "metadata": {},
     "output_type": "execute_result"
    }
   ],
   "source": [
    "df.shape"
   ]
  },
  {
   "cell_type": "code",
   "execution_count": 38,
   "metadata": {
    "colab": {
     "base_uri": "https://localhost:8080/"
    },
    "id": "RC9i78PYgvmb",
    "outputId": "d9d934ab-a05f-41b0-f472-3ed66e193a80"
   },
   "outputs": [
    {
     "data": {
      "text/plain": [
       "car_ID              0\n",
       "symboling           0\n",
       "CarName             0\n",
       "fueltype            0\n",
       "aspiration          0\n",
       "doornumber          0\n",
       "carbody             0\n",
       "drivewheel          0\n",
       "enginelocation      0\n",
       "wheelbase           0\n",
       "carlength           0\n",
       "carwidth            0\n",
       "carheight           0\n",
       "curbweight          0\n",
       "enginetype          0\n",
       "cylindernumber      0\n",
       "enginesize          0\n",
       "fuelsystem          0\n",
       "boreratio           0\n",
       "stroke              0\n",
       "compressionratio    0\n",
       "horsepower          0\n",
       "peakrpm             0\n",
       "citympg             0\n",
       "highwaympg          0\n",
       "price               0\n",
       "dtype: int64"
      ]
     },
     "execution_count": 38,
     "metadata": {},
     "output_type": "execute_result"
    }
   ],
   "source": [
    "df.isna().sum()"
   ]
  },
  {
   "cell_type": "markdown",
   "metadata": {
    "id": "ebK4WRF5g5ZK"
   },
   "source": [
    "**No Missing Values**"
   ]
  },
  {
   "cell_type": "code",
   "execution_count": 39,
   "metadata": {
    "colab": {
     "base_uri": "https://localhost:8080/",
     "height": 224
    },
    "id": "MV9DFObkCUbY",
    "outputId": "ba6cf318-6c67-418a-d5aa-e594676a45cd"
   },
   "outputs": [
    {
     "data": {
      "text/html": [
       "<div>\n",
       "<style scoped>\n",
       "    .dataframe tbody tr th:only-of-type {\n",
       "        vertical-align: middle;\n",
       "    }\n",
       "\n",
       "    .dataframe tbody tr th {\n",
       "        vertical-align: top;\n",
       "    }\n",
       "\n",
       "    .dataframe thead th {\n",
       "        text-align: right;\n",
       "    }\n",
       "</style>\n",
       "<table border=\"1\" class=\"dataframe\">\n",
       "  <thead>\n",
       "    <tr style=\"text-align: right;\">\n",
       "      <th></th>\n",
       "      <th>symboling</th>\n",
       "      <th>fueltype</th>\n",
       "      <th>aspiration</th>\n",
       "      <th>doornumber</th>\n",
       "      <th>carbody</th>\n",
       "      <th>drivewheel</th>\n",
       "      <th>enginelocation</th>\n",
       "      <th>wheelbase</th>\n",
       "      <th>carlength</th>\n",
       "      <th>carwidth</th>\n",
       "      <th>...</th>\n",
       "      <th>enginesize</th>\n",
       "      <th>fuelsystem</th>\n",
       "      <th>boreratio</th>\n",
       "      <th>stroke</th>\n",
       "      <th>compressionratio</th>\n",
       "      <th>horsepower</th>\n",
       "      <th>peakrpm</th>\n",
       "      <th>citympg</th>\n",
       "      <th>highwaympg</th>\n",
       "      <th>price</th>\n",
       "    </tr>\n",
       "  </thead>\n",
       "  <tbody>\n",
       "    <tr>\n",
       "      <th>0</th>\n",
       "      <td>3</td>\n",
       "      <td>gas</td>\n",
       "      <td>std</td>\n",
       "      <td>two</td>\n",
       "      <td>convertible</td>\n",
       "      <td>rwd</td>\n",
       "      <td>front</td>\n",
       "      <td>88.6</td>\n",
       "      <td>168.8</td>\n",
       "      <td>64.1</td>\n",
       "      <td>...</td>\n",
       "      <td>130</td>\n",
       "      <td>mpfi</td>\n",
       "      <td>3.47</td>\n",
       "      <td>2.68</td>\n",
       "      <td>9.0</td>\n",
       "      <td>111</td>\n",
       "      <td>5000</td>\n",
       "      <td>21</td>\n",
       "      <td>27</td>\n",
       "      <td>13495.0</td>\n",
       "    </tr>\n",
       "    <tr>\n",
       "      <th>1</th>\n",
       "      <td>3</td>\n",
       "      <td>gas</td>\n",
       "      <td>std</td>\n",
       "      <td>two</td>\n",
       "      <td>convertible</td>\n",
       "      <td>rwd</td>\n",
       "      <td>front</td>\n",
       "      <td>88.6</td>\n",
       "      <td>168.8</td>\n",
       "      <td>64.1</td>\n",
       "      <td>...</td>\n",
       "      <td>130</td>\n",
       "      <td>mpfi</td>\n",
       "      <td>3.47</td>\n",
       "      <td>2.68</td>\n",
       "      <td>9.0</td>\n",
       "      <td>111</td>\n",
       "      <td>5000</td>\n",
       "      <td>21</td>\n",
       "      <td>27</td>\n",
       "      <td>16500.0</td>\n",
       "    </tr>\n",
       "    <tr>\n",
       "      <th>2</th>\n",
       "      <td>1</td>\n",
       "      <td>gas</td>\n",
       "      <td>std</td>\n",
       "      <td>two</td>\n",
       "      <td>hatchback</td>\n",
       "      <td>rwd</td>\n",
       "      <td>front</td>\n",
       "      <td>94.5</td>\n",
       "      <td>171.2</td>\n",
       "      <td>65.5</td>\n",
       "      <td>...</td>\n",
       "      <td>152</td>\n",
       "      <td>mpfi</td>\n",
       "      <td>2.68</td>\n",
       "      <td>3.47</td>\n",
       "      <td>9.0</td>\n",
       "      <td>154</td>\n",
       "      <td>5000</td>\n",
       "      <td>19</td>\n",
       "      <td>26</td>\n",
       "      <td>16500.0</td>\n",
       "    </tr>\n",
       "    <tr>\n",
       "      <th>3</th>\n",
       "      <td>2</td>\n",
       "      <td>gas</td>\n",
       "      <td>std</td>\n",
       "      <td>four</td>\n",
       "      <td>sedan</td>\n",
       "      <td>fwd</td>\n",
       "      <td>front</td>\n",
       "      <td>99.8</td>\n",
       "      <td>176.6</td>\n",
       "      <td>66.2</td>\n",
       "      <td>...</td>\n",
       "      <td>109</td>\n",
       "      <td>mpfi</td>\n",
       "      <td>3.19</td>\n",
       "      <td>3.40</td>\n",
       "      <td>10.0</td>\n",
       "      <td>102</td>\n",
       "      <td>5500</td>\n",
       "      <td>24</td>\n",
       "      <td>30</td>\n",
       "      <td>13950.0</td>\n",
       "    </tr>\n",
       "    <tr>\n",
       "      <th>4</th>\n",
       "      <td>2</td>\n",
       "      <td>gas</td>\n",
       "      <td>std</td>\n",
       "      <td>four</td>\n",
       "      <td>sedan</td>\n",
       "      <td>4wd</td>\n",
       "      <td>front</td>\n",
       "      <td>99.4</td>\n",
       "      <td>176.6</td>\n",
       "      <td>66.4</td>\n",
       "      <td>...</td>\n",
       "      <td>136</td>\n",
       "      <td>mpfi</td>\n",
       "      <td>3.19</td>\n",
       "      <td>3.40</td>\n",
       "      <td>8.0</td>\n",
       "      <td>115</td>\n",
       "      <td>5500</td>\n",
       "      <td>18</td>\n",
       "      <td>22</td>\n",
       "      <td>17450.0</td>\n",
       "    </tr>\n",
       "  </tbody>\n",
       "</table>\n",
       "<p>5 rows × 24 columns</p>\n",
       "</div>"
      ],
      "text/plain": [
       "   symboling fueltype aspiration doornumber      carbody drivewheel  \\\n",
       "0          3      gas        std        two  convertible        rwd   \n",
       "1          3      gas        std        two  convertible        rwd   \n",
       "2          1      gas        std        two    hatchback        rwd   \n",
       "3          2      gas        std       four        sedan        fwd   \n",
       "4          2      gas        std       four        sedan        4wd   \n",
       "\n",
       "  enginelocation  wheelbase  carlength  carwidth  ...  enginesize  fuelsystem  \\\n",
       "0          front       88.6      168.8      64.1  ...         130        mpfi   \n",
       "1          front       88.6      168.8      64.1  ...         130        mpfi   \n",
       "2          front       94.5      171.2      65.5  ...         152        mpfi   \n",
       "3          front       99.8      176.6      66.2  ...         109        mpfi   \n",
       "4          front       99.4      176.6      66.4  ...         136        mpfi   \n",
       "\n",
       "  boreratio stroke  compressionratio horsepower  peakrpm  citympg  highwaympg  \\\n",
       "0      3.47   2.68               9.0        111     5000       21          27   \n",
       "1      3.47   2.68               9.0        111     5000       21          27   \n",
       "2      2.68   3.47               9.0        154     5000       19          26   \n",
       "3      3.19   3.40              10.0        102     5500       24          30   \n",
       "4      3.19   3.40               8.0        115     5500       18          22   \n",
       "\n",
       "     price  \n",
       "0  13495.0  \n",
       "1  16500.0  \n",
       "2  16500.0  \n",
       "3  13950.0  \n",
       "4  17450.0  \n",
       "\n",
       "[5 rows x 24 columns]"
      ]
     },
     "execution_count": 39,
     "metadata": {},
     "output_type": "execute_result"
    }
   ],
   "source": [
    "del df['car_ID']\n",
    "del df['CarName']\n",
    "df.head()"
   ]
  },
  {
   "cell_type": "code",
   "execution_count": 40,
   "metadata": {
    "colab": {
     "base_uri": "https://localhost:8080/"
    },
    "id": "VWOJnJqghxsa",
    "outputId": "6750b049-958c-4976-9363-538a8a3803db"
   },
   "outputs": [
    {
     "data": {
      "text/plain": [
       "Index(['symboling', 'fueltype', 'aspiration', 'doornumber', 'carbody',\n",
       "       'drivewheel', 'enginelocation', 'wheelbase', 'carlength', 'carwidth',\n",
       "       'carheight', 'curbweight', 'enginetype', 'cylindernumber', 'enginesize',\n",
       "       'fuelsystem', 'boreratio', 'stroke', 'compressionratio', 'horsepower',\n",
       "       'peakrpm', 'citympg', 'highwaympg', 'price'],\n",
       "      dtype='object')"
      ]
     },
     "execution_count": 40,
     "metadata": {},
     "output_type": "execute_result"
    }
   ],
   "source": [
    "df.columns"
   ]
  },
  {
   "cell_type": "markdown",
   "metadata": {
    "id": "h2RL4ocWkPXm"
   },
   "source": [
    "### For Encoding Part"
   ]
  },
  {
   "cell_type": "code",
   "execution_count": 41,
   "metadata": {
    "colab": {
     "base_uri": "https://localhost:8080/"
    },
    "id": "YqkzcorbiSsx",
    "outputId": "3e1102ee-1374-41cf-f813-69f22771c7af"
   },
   "outputs": [
    {
     "data": {
      "text/plain": [
       "symboling             int64\n",
       "fueltype             object\n",
       "aspiration           object\n",
       "doornumber           object\n",
       "carbody              object\n",
       "drivewheel           object\n",
       "enginelocation       object\n",
       "wheelbase           float64\n",
       "carlength           float64\n",
       "carwidth            float64\n",
       "carheight           float64\n",
       "curbweight            int64\n",
       "enginetype           object\n",
       "cylindernumber       object\n",
       "enginesize            int64\n",
       "fuelsystem           object\n",
       "boreratio           float64\n",
       "stroke              float64\n",
       "compressionratio    float64\n",
       "horsepower            int64\n",
       "peakrpm               int64\n",
       "citympg               int64\n",
       "highwaympg            int64\n",
       "price               float64\n",
       "dtype: object"
      ]
     },
     "execution_count": 41,
     "metadata": {},
     "output_type": "execute_result"
    }
   ],
   "source": [
    "df.dtypes"
   ]
  },
  {
   "cell_type": "code",
   "execution_count": 42,
   "metadata": {
    "id": "XVjQWW_HiDix"
   },
   "outputs": [],
   "source": [
    "categotical_fet = [i for i in df.columns if df.dtypes[i]=='object']"
   ]
  },
  {
   "cell_type": "code",
   "execution_count": 43,
   "metadata": {
    "colab": {
     "base_uri": "https://localhost:8080/"
    },
    "id": "OOrzQWY8iXYR",
    "outputId": "5721bf98-4aa2-4759-c0e5-6f4c831a0466"
   },
   "outputs": [
    {
     "data": {
      "text/plain": [
       "['fueltype',\n",
       " 'aspiration',\n",
       " 'doornumber',\n",
       " 'carbody',\n",
       " 'drivewheel',\n",
       " 'enginelocation',\n",
       " 'enginetype',\n",
       " 'cylindernumber',\n",
       " 'fuelsystem']"
      ]
     },
     "execution_count": 43,
     "metadata": {},
     "output_type": "execute_result"
    }
   ],
   "source": [
    "categotical_fet"
   ]
  },
  {
   "cell_type": "markdown",
   "metadata": {
    "id": "dKIh5atpucEI"
   },
   "source": [
    "#### For Converting all of the columns that are 2 Category based:"
   ]
  },
  {
   "cell_type": "code",
   "execution_count": 44,
   "metadata": {
    "colab": {
     "base_uri": "https://localhost:8080/"
    },
    "id": "st0enDjIkmjR",
    "outputId": "add51695-8814-4c35-968a-7ddbfa23c6a6"
   },
   "outputs": [
    {
     "data": {
      "text/plain": [
       "array([1, 0], dtype=int64)"
      ]
     },
     "execution_count": 44,
     "metadata": {},
     "output_type": "execute_result"
    }
   ],
   "source": [
    "#for fuel, the colum have 2 categories ['gas', 'diesel'], converting them into int\n",
    "df['fueltype'].unique()\n",
    "processed_df = df.copy()\n",
    "\n",
    "processed_df.fueltype = df.fueltype.apply(lambda x: 1 if x == 'gas' else 0)\n",
    "processed_df.fueltype.unique() \n",
    "#1 = gass, 0 = diesel"
   ]
  },
  {
   "cell_type": "code",
   "execution_count": 45,
   "metadata": {
    "colab": {
     "base_uri": "https://localhost:8080/"
    },
    "id": "Gz2lCnQAlpYx",
    "outputId": "fbc1bbad-4ad8-4a7d-f3c3-9ddbc4815506"
   },
   "outputs": [
    {
     "data": {
      "text/plain": [
       "array([1, 0], dtype=int64)"
      ]
     },
     "execution_count": 45,
     "metadata": {},
     "output_type": "execute_result"
    }
   ],
   "source": [
    "#for fuel, the colum have 2 categories ['std', 'turbo'], converting them into int\n",
    "df['aspiration'].unique()\n",
    "\n",
    "processed_df.aspiration = processed_df.aspiration.apply(lambda x: 1 if x == 'std' else 0)\n",
    "processed_df.aspiration.unique()\n",
    "#1 = std, 0 = turbo"
   ]
  },
  {
   "cell_type": "code",
   "execution_count": 46,
   "metadata": {
    "colab": {
     "base_uri": "https://localhost:8080/"
    },
    "id": "7xGoUDJqlwGD",
    "outputId": "18aed97a-7ed5-4250-cd9f-81a1693fc37d"
   },
   "outputs": [
    {
     "data": {
      "text/plain": [
       "array([0, 1], dtype=int64)"
      ]
     },
     "execution_count": 46,
     "metadata": {},
     "output_type": "execute_result"
    }
   ],
   "source": [
    "#for fuel, the colum have 2 categories ['two', 'four'], converting them into int\n",
    "df['doornumber'].unique()\n",
    "\n",
    "processed_df.doornumber = processed_df.doornumber.apply(lambda x: 1 if x == 'four' else 0)\n",
    "processed_df.doornumber.unique()\n",
    "#1 = four, 0 = two"
   ]
  },
  {
   "cell_type": "code",
   "execution_count": 47,
   "metadata": {
    "colab": {
     "base_uri": "https://localhost:8080/"
    },
    "id": "GvHcELktlw1S",
    "outputId": "1b7c2e3a-50cf-4c95-9727-6502e14b35a5"
   },
   "outputs": [
    {
     "data": {
      "text/plain": [
       "array([1, 0], dtype=int64)"
      ]
     },
     "execution_count": 47,
     "metadata": {},
     "output_type": "execute_result"
    }
   ],
   "source": [
    "#for fuel, the colum have 2 categories ['front', 'rear'], converting them into int\n",
    "df['enginelocation'].unique()\n",
    "\n",
    "processed_df.enginelocation = processed_df.enginelocation.apply(lambda x: 1 if x == 'front' else 0)\n",
    "processed_df.enginelocation.unique()\n",
    "#1 = front, 0 = rear"
   ]
  },
  {
   "cell_type": "code",
   "execution_count": 48,
   "metadata": {
    "colab": {
     "base_uri": "https://localhost:8080/"
    },
    "id": "0Wz6UHsNxqyo",
    "outputId": "aaf2bf11-c2bf-44fc-fbd3-1e9ef3e9839c"
   },
   "outputs": [
    {
     "data": {
      "text/plain": [
       "1    189\n",
       "0     16\n",
       "Name: enginetype, dtype: int64"
      ]
     },
     "execution_count": 48,
     "metadata": {},
     "output_type": "execute_result"
    }
   ],
   "source": [
    "#for enginetype, the colum have 7 categories ['dohc', 'ohcv', 'ohc', 'l', 'rotor', 'ohcf', 'dohcv']\n",
    "#but, the OHC stand for \"OverHead Cam\", So, we here care about is whether or not the engine is \n",
    "#an OHC or not. \n",
    "\n",
    "processed_df.enginetype = processed_df.enginetype.apply(lambda x: 1 if 'ohc' in x else 0)\n",
    "processed_df.enginetype.unique()\n",
    "processed_df.enginetype.value_counts()\n",
    "#1 = OHC, 0 = not OHC"
   ]
  },
  {
   "cell_type": "markdown",
   "metadata": {
    "id": "Uw97E1pQukUF"
   },
   "source": [
    "#### For converting the cylander string number to integer numbers"
   ]
  },
  {
   "cell_type": "code",
   "execution_count": 49,
   "metadata": {
    "id": "n9nVUR4ZlxLd"
   },
   "outputs": [],
   "source": [
    "def text2int(textnum, numwords={}):\n",
    "    if not numwords:\n",
    "      units = [\n",
    "        \"zero\", \"one\", \"two\", \"three\", \"four\", \"five\", \"six\", \"seven\", \"eight\",\n",
    "        \"nine\", \"ten\", \"eleven\", \"twelve\", \"thirteen\", \"fourteen\", \"fifteen\",\n",
    "        \"sixteen\", \"seventeen\", \"eighteen\", \"nineteen\",\n",
    "      ]\n",
    "\n",
    "      tens = [\"\", \"\", \"twenty\", \"thirty\", \"forty\", \"fifty\", \"sixty\", \"seventy\", \"eighty\", \"ninety\"]\n",
    "\n",
    "      scales = [\"hundred\", \"thousand\", \"million\", \"billion\", \"trillion\"]\n",
    "\n",
    "      numwords[\"and\"] = (1, 0)\n",
    "      for idx, word in enumerate(units):    numwords[word] = (1, idx)\n",
    "      for idx, word in enumerate(tens):     numwords[word] = (1, idx * 10)\n",
    "      for idx, word in enumerate(scales):   numwords[word] = (10 ** (idx * 3 or 2), 0)\n",
    "\n",
    "    current = result = 0\n",
    "    for word in textnum.split():\n",
    "        if word not in numwords:\n",
    "          raise Exception(\"Illegal word: \" + word)\n",
    "\n",
    "        scale, increment = numwords[word]\n",
    "        current = current * scale + increment\n",
    "        if scale > 100:\n",
    "            result += current\n",
    "            current = 0\n",
    "\n",
    "    return result + current"
   ]
  },
  {
   "cell_type": "code",
   "execution_count": 50,
   "metadata": {
    "colab": {
     "base_uri": "https://localhost:8080/"
    },
    "id": "7QvWh8uUttv9",
    "outputId": "d150a578-a695-4082-8b56-3f915df8f84a"
   },
   "outputs": [
    {
     "data": {
      "text/plain": [
       "array([ 4,  6,  5,  3, 12,  2,  8], dtype=int64)"
      ]
     },
     "execution_count": 50,
     "metadata": {},
     "output_type": "execute_result"
    }
   ],
   "source": [
    "#for cylindernumber, converting the numbers ['four', 'six', 'five', 'three', 'twelve', 'two', 'eight'] \n",
    "#to their equalivalent, in integers\n",
    "processed_df['cylindernumber'].unique()\n",
    "\n",
    "processed_df.cylindernumber = processed_df.cylindernumber.apply(lambda x: text2int(x) )\n",
    "processed_df.cylindernumber.unique()"
   ]
  },
  {
   "cell_type": "markdown",
   "metadata": {
    "id": "DoaID0lmwoGJ"
   },
   "source": [
    "#### For One Hot Encoding based"
   ]
  },
  {
   "cell_type": "code",
   "execution_count": 51,
   "metadata": {
    "id": "nW9ADSM8lwNt"
   },
   "outputs": [],
   "source": [
    "#for carbody, the colum have 5 categories ['convertible', 'hatchback', 'sedan', 'wagon', 'hardtop']\n",
    "oe_style = OneHotEncoder()\n",
    "oe_results = oe_style.fit_transform(processed_df[['carbody']])\n",
    "\n",
    "#we have to do this other wise, column name will contains syntax like\n",
    "#(etcName,), So this will give proper name to column like etcName\n",
    "names = np.asarray(oe_style.categories_)[0]\n",
    "\n",
    "#for adding the newly created one hot encoded columns and removing the un-nessary one\n",
    "\n",
    "processed_df = processed_df.join(pd.DataFrame(oe_results.toarray(), columns=names))\n",
    "processed_df.drop('carbody', inplace=True, axis=1) #no use now"
   ]
  },
  {
   "cell_type": "code",
   "execution_count": 52,
   "metadata": {
    "id": "IXOll50Zxq6R"
   },
   "outputs": [],
   "source": [
    "#for drivewheel, the colum have 3 categories ['rwd', 'fwd', '4wd']\n",
    "oe_style = OneHotEncoder()\n",
    "oe_results = oe_style.fit_transform(processed_df[['drivewheel']])\n",
    "\n",
    "#we have to do this other wise, column name will contains syntax like\n",
    "#(etcName,), So this will give proper name to column like etcName\n",
    "names = np.asarray(oe_style.categories_)[0,]\n",
    "\n",
    "#for adding the newly created one hot encoded columns and removing the un-nessary one\n",
    "processed_df = processed_df.join(pd.DataFrame(oe_results.toarray(), columns=names))\n",
    "processed_df.drop('drivewheel', inplace=True, axis=1) #no use now"
   ]
  },
  {
   "cell_type": "code",
   "execution_count": 53,
   "metadata": {
    "id": "Nn9_MP2nxrDa"
   },
   "outputs": [],
   "source": [
    "#for fuelsystem, the colum have 8 categories, ['mpfi', '2bbl', 'mfi', '1bbl', 'spfi', '4bbl', 'idi', 'spdi']\n",
    "oe_style = OneHotEncoder()\n",
    "oe_results = oe_style.fit_transform(processed_df[['fuelsystem']])\n",
    "\n",
    "#we have to do this other wise, column name will contains syntax like\n",
    "#(etcName,), So this will give proper name to column like etcName\n",
    "names = np.asarray(oe_style.categories_)[0,]\n",
    "\n",
    "#for adding the newly created one hot encoded columns and removing the un-nessary one\n",
    "processed_df = processed_df.join(pd.DataFrame(oe_results.toarray(), columns=names))\n",
    "processed_df.drop('fuelsystem', inplace=True, axis=1) #no use now"
   ]
  },
  {
   "cell_type": "code",
   "execution_count": 54,
   "metadata": {
    "colab": {
     "base_uri": "https://localhost:8080/",
     "height": 224
    },
    "id": "2jBLSHaurBxr",
    "outputId": "a44049b4-0c71-435d-e3c6-2a0bc729bb67"
   },
   "outputs": [
    {
     "data": {
      "text/html": [
       "<div>\n",
       "<style scoped>\n",
       "    .dataframe tbody tr th:only-of-type {\n",
       "        vertical-align: middle;\n",
       "    }\n",
       "\n",
       "    .dataframe tbody tr th {\n",
       "        vertical-align: top;\n",
       "    }\n",
       "\n",
       "    .dataframe thead th {\n",
       "        text-align: right;\n",
       "    }\n",
       "</style>\n",
       "<table border=\"1\" class=\"dataframe\">\n",
       "  <thead>\n",
       "    <tr style=\"text-align: right;\">\n",
       "      <th></th>\n",
       "      <th>symboling</th>\n",
       "      <th>fueltype</th>\n",
       "      <th>aspiration</th>\n",
       "      <th>doornumber</th>\n",
       "      <th>enginelocation</th>\n",
       "      <th>wheelbase</th>\n",
       "      <th>carlength</th>\n",
       "      <th>carwidth</th>\n",
       "      <th>carheight</th>\n",
       "      <th>curbweight</th>\n",
       "      <th>...</th>\n",
       "      <th>fwd</th>\n",
       "      <th>rwd</th>\n",
       "      <th>1bbl</th>\n",
       "      <th>2bbl</th>\n",
       "      <th>4bbl</th>\n",
       "      <th>idi</th>\n",
       "      <th>mfi</th>\n",
       "      <th>mpfi</th>\n",
       "      <th>spdi</th>\n",
       "      <th>spfi</th>\n",
       "    </tr>\n",
       "  </thead>\n",
       "  <tbody>\n",
       "    <tr>\n",
       "      <th>0</th>\n",
       "      <td>3</td>\n",
       "      <td>1</td>\n",
       "      <td>1</td>\n",
       "      <td>0</td>\n",
       "      <td>1</td>\n",
       "      <td>88.6</td>\n",
       "      <td>168.8</td>\n",
       "      <td>64.1</td>\n",
       "      <td>48.8</td>\n",
       "      <td>2548</td>\n",
       "      <td>...</td>\n",
       "      <td>0.0</td>\n",
       "      <td>1.0</td>\n",
       "      <td>0.0</td>\n",
       "      <td>0.0</td>\n",
       "      <td>0.0</td>\n",
       "      <td>0.0</td>\n",
       "      <td>0.0</td>\n",
       "      <td>1.0</td>\n",
       "      <td>0.0</td>\n",
       "      <td>0.0</td>\n",
       "    </tr>\n",
       "    <tr>\n",
       "      <th>1</th>\n",
       "      <td>3</td>\n",
       "      <td>1</td>\n",
       "      <td>1</td>\n",
       "      <td>0</td>\n",
       "      <td>1</td>\n",
       "      <td>88.6</td>\n",
       "      <td>168.8</td>\n",
       "      <td>64.1</td>\n",
       "      <td>48.8</td>\n",
       "      <td>2548</td>\n",
       "      <td>...</td>\n",
       "      <td>0.0</td>\n",
       "      <td>1.0</td>\n",
       "      <td>0.0</td>\n",
       "      <td>0.0</td>\n",
       "      <td>0.0</td>\n",
       "      <td>0.0</td>\n",
       "      <td>0.0</td>\n",
       "      <td>1.0</td>\n",
       "      <td>0.0</td>\n",
       "      <td>0.0</td>\n",
       "    </tr>\n",
       "    <tr>\n",
       "      <th>2</th>\n",
       "      <td>1</td>\n",
       "      <td>1</td>\n",
       "      <td>1</td>\n",
       "      <td>0</td>\n",
       "      <td>1</td>\n",
       "      <td>94.5</td>\n",
       "      <td>171.2</td>\n",
       "      <td>65.5</td>\n",
       "      <td>52.4</td>\n",
       "      <td>2823</td>\n",
       "      <td>...</td>\n",
       "      <td>0.0</td>\n",
       "      <td>1.0</td>\n",
       "      <td>0.0</td>\n",
       "      <td>0.0</td>\n",
       "      <td>0.0</td>\n",
       "      <td>0.0</td>\n",
       "      <td>0.0</td>\n",
       "      <td>1.0</td>\n",
       "      <td>0.0</td>\n",
       "      <td>0.0</td>\n",
       "    </tr>\n",
       "    <tr>\n",
       "      <th>3</th>\n",
       "      <td>2</td>\n",
       "      <td>1</td>\n",
       "      <td>1</td>\n",
       "      <td>1</td>\n",
       "      <td>1</td>\n",
       "      <td>99.8</td>\n",
       "      <td>176.6</td>\n",
       "      <td>66.2</td>\n",
       "      <td>54.3</td>\n",
       "      <td>2337</td>\n",
       "      <td>...</td>\n",
       "      <td>1.0</td>\n",
       "      <td>0.0</td>\n",
       "      <td>0.0</td>\n",
       "      <td>0.0</td>\n",
       "      <td>0.0</td>\n",
       "      <td>0.0</td>\n",
       "      <td>0.0</td>\n",
       "      <td>1.0</td>\n",
       "      <td>0.0</td>\n",
       "      <td>0.0</td>\n",
       "    </tr>\n",
       "    <tr>\n",
       "      <th>4</th>\n",
       "      <td>2</td>\n",
       "      <td>1</td>\n",
       "      <td>1</td>\n",
       "      <td>1</td>\n",
       "      <td>1</td>\n",
       "      <td>99.4</td>\n",
       "      <td>176.6</td>\n",
       "      <td>66.4</td>\n",
       "      <td>54.3</td>\n",
       "      <td>2824</td>\n",
       "      <td>...</td>\n",
       "      <td>0.0</td>\n",
       "      <td>0.0</td>\n",
       "      <td>0.0</td>\n",
       "      <td>0.0</td>\n",
       "      <td>0.0</td>\n",
       "      <td>0.0</td>\n",
       "      <td>0.0</td>\n",
       "      <td>1.0</td>\n",
       "      <td>0.0</td>\n",
       "      <td>0.0</td>\n",
       "    </tr>\n",
       "  </tbody>\n",
       "</table>\n",
       "<p>5 rows × 37 columns</p>\n",
       "</div>"
      ],
      "text/plain": [
       "   symboling  fueltype  aspiration  doornumber  enginelocation  wheelbase  \\\n",
       "0          3         1           1           0               1       88.6   \n",
       "1          3         1           1           0               1       88.6   \n",
       "2          1         1           1           0               1       94.5   \n",
       "3          2         1           1           1               1       99.8   \n",
       "4          2         1           1           1               1       99.4   \n",
       "\n",
       "   carlength  carwidth  carheight  curbweight  ...  fwd  rwd  1bbl  2bbl  \\\n",
       "0      168.8      64.1       48.8        2548  ...  0.0  1.0   0.0   0.0   \n",
       "1      168.8      64.1       48.8        2548  ...  0.0  1.0   0.0   0.0   \n",
       "2      171.2      65.5       52.4        2823  ...  0.0  1.0   0.0   0.0   \n",
       "3      176.6      66.2       54.3        2337  ...  1.0  0.0   0.0   0.0   \n",
       "4      176.6      66.4       54.3        2824  ...  0.0  0.0   0.0   0.0   \n",
       "\n",
       "   4bbl  idi  mfi  mpfi  spdi  spfi  \n",
       "0   0.0  0.0  0.0   1.0   0.0   0.0  \n",
       "1   0.0  0.0  0.0   1.0   0.0   0.0  \n",
       "2   0.0  0.0  0.0   1.0   0.0   0.0  \n",
       "3   0.0  0.0  0.0   1.0   0.0   0.0  \n",
       "4   0.0  0.0  0.0   1.0   0.0   0.0  \n",
       "\n",
       "[5 rows x 37 columns]"
      ]
     },
     "execution_count": 54,
     "metadata": {},
     "output_type": "execute_result"
    }
   ],
   "source": [
    "processed_df.head()"
   ]
  },
  {
   "cell_type": "code",
   "execution_count": null,
   "metadata": {
    "id": "pkIFk9Tq3poF"
   },
   "outputs": [],
   "source": []
  },
  {
   "cell_type": "markdown",
   "metadata": {
    "id": "333GTS1Cj1EY"
   },
   "source": [
    "### for Train-Test Split"
   ]
  },
  {
   "cell_type": "code",
   "execution_count": 55,
   "metadata": {
    "id": "Ve8jugO0ikdi"
   },
   "outputs": [],
   "source": [
    "y = processed_df['price']\n",
    "processed_df.drop('price', inplace=True, axis=1)\n",
    "\n",
    "X = processed_df.copy()"
   ]
  },
  {
   "cell_type": "code",
   "execution_count": 56,
   "metadata": {
    "id": "aCBS1kS7jLrT"
   },
   "outputs": [],
   "source": [
    "X_train, X_test, y_train, y_test = train_test_split(X, y, test_size=0.2, random_state=1)\n",
    "# X_train, X_val, y_train, y_val = train_test_split(X_train, y_train, test_size=0.5, random_state=1)"
   ]
  },
  {
   "cell_type": "code",
   "execution_count": 57,
   "metadata": {
    "colab": {
     "base_uri": "https://localhost:8080/"
    },
    "id": "fBXEaAEukS54",
    "outputId": "83a11642-103d-4e26-cc1e-b2476bddd1a3"
   },
   "outputs": [
    {
     "data": {
      "text/plain": [
       "(164, 36)"
      ]
     },
     "execution_count": 57,
     "metadata": {},
     "output_type": "execute_result"
    }
   ],
   "source": [
    "X_train.shape"
   ]
  },
  {
   "cell_type": "markdown",
   "metadata": {
    "id": "VMjUmXdsjuDV"
   },
   "source": [
    "### Neuro Network"
   ]
  },
  {
   "cell_type": "code",
   "execution_count": 58,
   "metadata": {
    "id": "VEfDJl_cjq5h"
   },
   "outputs": [],
   "source": [
    "model = Sequential()\n",
    "model.add(Dense(36, activation='relu'))\n",
    "model.add(Dense(72, activation='relu'))\n",
    "model.add(Dense(36, activation='relu'))\n",
    "model.add(Dense(18, activation='relu'))\n",
    "model.add(Dense(1))"
   ]
  },
  {
   "cell_type": "code",
   "execution_count": null,
   "metadata": {
    "colab": {
     "base_uri": "https://localhost:8080/",
     "height": 317
    },
    "id": "RgUtZgKkkyib",
    "outputId": "74ead7c4-38a8-40e6-dbd6-b794b43a7bf0"
   },
   "outputs": [],
   "source": []
  },
  {
   "cell_type": "code",
   "execution_count": 59,
   "metadata": {
    "id": "XzXDZnEGk2si"
   },
   "outputs": [],
   "source": [
    "model.compile('Adam', loss='mse', metrics='mae')"
   ]
  },
  {
   "cell_type": "code",
   "execution_count": 60,
   "metadata": {
    "colab": {
     "base_uri": "https://localhost:8080/"
    },
    "id": "sPlb07FEk6W6",
    "outputId": "1211fd29-adb4-4f48-ebbb-0a81f7dbc10c"
   },
   "outputs": [
    {
     "name": "stdout",
     "output_type": "stream",
     "text": [
      "Epoch 1/100\n",
      "6/6 [==============================] - 1s 3ms/step - loss: 251114646.8571 - mae: 13641.1318\n",
      "Epoch 2/100\n",
      "6/6 [==============================] - 0s 2ms/step - loss: 240249465.1429 - mae: 13192.2687\n",
      "Epoch 3/100\n",
      "6/6 [==============================] - 0s 3ms/step - loss: 264019808.0000 - mae: 13639.9936\n",
      "Epoch 4/100\n",
      "6/6 [==============================] - 0s 2ms/step - loss: 216382665.1429 - mae: 12394.6674\n",
      "Epoch 5/100\n",
      "6/6 [==============================] - 0s 3ms/step - loss: 198438288.0000 - mae: 12010.3135\n",
      "Epoch 6/100\n",
      "6/6 [==============================] - 0s 2ms/step - loss: 195793220.5714 - mae: 11846.9466\n",
      "Epoch 7/100\n",
      "6/6 [==============================] - 0s 3ms/step - loss: 175600728.0000 - mae: 10597.2150\n",
      "Epoch 8/100\n",
      "6/6 [==============================] - 0s 3ms/step - loss: 161762934.8571 - mae: 9970.4125\n",
      "Epoch 9/100\n",
      "6/6 [==============================] - 0s 2ms/step - loss: 128797713.1429 - mae: 8315.5033\n",
      "Epoch 10/100\n",
      "6/6 [==============================] - 0s 2ms/step - loss: 93388313.1429 - mae: 6460.1348\n",
      "Epoch 11/100\n",
      "6/6 [==============================] - 0s 2ms/step - loss: 85492537.1429 - mae: 5756.0735\n",
      "Epoch 12/100\n",
      "6/6 [==============================] - 0s 2ms/step - loss: 54479664.0000 - mae: 5056.7104\n",
      "Epoch 13/100\n",
      "6/6 [==============================] - 0s 3ms/step - loss: 50499685.1429 - mae: 5587.8963\n",
      "Epoch 14/100\n",
      "6/6 [==============================] - 0s 3ms/step - loss: 62871314.8571 - mae: 6159.5416\n",
      "Epoch 15/100\n",
      "6/6 [==============================] - 0s 3ms/step - loss: 50816709.4286 - mae: 5642.2634\n",
      "Epoch 16/100\n",
      "6/6 [==============================] - 0s 3ms/step - loss: 50230223.4286 - mae: 5588.5982\n",
      "Epoch 17/100\n",
      "6/6 [==============================] - 0s 2ms/step - loss: 56407286.2857 - mae: 5539.2041\n",
      "Epoch 18/100\n",
      "6/6 [==============================] - 0s 3ms/step - loss: 51718859.4286 - mae: 5210.4254\n",
      "Epoch 19/100\n",
      "6/6 [==============================] - 0s 2ms/step - loss: 50203900.0000 - mae: 5151.8018\n",
      "Epoch 20/100\n",
      "6/6 [==============================] - 0s 2ms/step - loss: 56192217.1429 - mae: 5408.3620\n",
      "Epoch 21/100\n",
      "6/6 [==============================] - 0s 2ms/step - loss: 56439466.2857 - mae: 5528.5965\n",
      "Epoch 22/100\n",
      "6/6 [==============================] - 0s 2ms/step - loss: 46474737.1429 - mae: 5035.4323\n",
      "Epoch 23/100\n",
      "6/6 [==============================] - 0s 3ms/step - loss: 38194963.1429 - mae: 4483.1560\n",
      "Epoch 24/100\n",
      "6/6 [==============================] - 0s 3ms/step - loss: 54481753.7143 - mae: 5405.6985\n",
      "Epoch 25/100\n",
      "6/6 [==============================] - 0s 2ms/step - loss: 42521976.5714 - mae: 5141.4358\n",
      "Epoch 26/100\n",
      "6/6 [==============================] - 0s 2ms/step - loss: 42166636.5714 - mae: 4782.7971\n",
      "Epoch 27/100\n",
      "6/6 [==============================] - 0s 2ms/step - loss: 49628082.8571 - mae: 4980.6221\n",
      "Epoch 28/100\n",
      "6/6 [==============================] - 0s 3ms/step - loss: 51383413.7143 - mae: 5189.0649\n",
      "Epoch 29/100\n",
      "6/6 [==============================] - 0s 2ms/step - loss: 45240755.4286 - mae: 4722.7354\n",
      "Epoch 30/100\n",
      "6/6 [==============================] - 0s 2ms/step - loss: 42080312.0000 - mae: 4693.4380\n",
      "Epoch 31/100\n",
      "6/6 [==============================] - 0s 3ms/step - loss: 45974068.0000 - mae: 4691.7425\n",
      "Epoch 32/100\n",
      "6/6 [==============================] - 0s 2ms/step - loss: 47322633.1429 - mae: 4863.2892\n",
      "Epoch 33/100\n",
      "6/6 [==============================] - 0s 2ms/step - loss: 35304230.5714 - mae: 4331.4485\n",
      "Epoch 34/100\n",
      "6/6 [==============================] - 0s 2ms/step - loss: 46836409.7143 - mae: 4912.3232\n",
      "Epoch 35/100\n",
      "6/6 [==============================] - 0s 3ms/step - loss: 38197332.0000 - mae: 4669.5467\n",
      "Epoch 36/100\n",
      "6/6 [==============================] - 0s 2ms/step - loss: 31192107.7143 - mae: 4141.5089\n",
      "Epoch 37/100\n",
      "6/6 [==============================] - 0s 3ms/step - loss: 42751782.8571 - mae: 4548.2727\n",
      "Epoch 38/100\n",
      "6/6 [==============================] - 0s 3ms/step - loss: 33469861.7143 - mae: 4238.6118\n",
      "Epoch 39/100\n",
      "6/6 [==============================] - 0s 2ms/step - loss: 40053191.4286 - mae: 4717.3645\n",
      "Epoch 40/100\n",
      "6/6 [==============================] - 0s 2ms/step - loss: 37012059.7143 - mae: 4545.4032\n",
      "Epoch 41/100\n",
      "6/6 [==============================] - 0s 2ms/step - loss: 36080838.8571 - mae: 4166.6725\n",
      "Epoch 42/100\n",
      "6/6 [==============================] - 0s 3ms/step - loss: 33015559.7143 - mae: 4033.8254\n",
      "Epoch 43/100\n",
      "6/6 [==============================] - 0s 3ms/step - loss: 27846247.8571 - mae: 3904.5541\n",
      "Epoch 44/100\n",
      "6/6 [==============================] - 0s 3ms/step - loss: 31242622.5714 - mae: 4001.7660\n",
      "Epoch 45/100\n",
      "6/6 [==============================] - 0s 2ms/step - loss: 38906578.0000 - mae: 4325.6559\n",
      "Epoch 46/100\n",
      "6/6 [==============================] - 0s 2ms/step - loss: 26623149.7143 - mae: 3631.6138\n",
      "Epoch 47/100\n",
      "6/6 [==============================] - 0s 2ms/step - loss: 27285802.5714 - mae: 3825.0251\n",
      "Epoch 48/100\n",
      "6/6 [==============================] - 0s 2ms/step - loss: 27968790.0000 - mae: 4001.3084\n",
      "Epoch 49/100\n",
      "6/6 [==============================] - 0s 3ms/step - loss: 26490841.4286 - mae: 3663.8244\n",
      "Epoch 50/100\n",
      "6/6 [==============================] - 0s 2ms/step - loss: 23918747.1429 - mae: 3372.8500\n",
      "Epoch 51/100\n",
      "6/6 [==============================] - 0s 2ms/step - loss: 23988069.7143 - mae: 3639.9979\n",
      "Epoch 52/100\n",
      "6/6 [==============================] - 0s 3ms/step - loss: 27192432.0000 - mae: 3497.4761\n",
      "Epoch 53/100\n",
      "6/6 [==============================] - 0s 3ms/step - loss: 25520091.1429 - mae: 3207.1889\n",
      "Epoch 54/100\n",
      "6/6 [==============================] - 0s 2ms/step - loss: 23745099.4286 - mae: 3090.7319\n",
      "Epoch 55/100\n",
      "6/6 [==============================] - ETA: 0s - loss: 24117660.0000 - mae: 3389.306 - 0s 2ms/step - loss: 25285811.1429 - mae: 3347.4815\n",
      "Epoch 56/100\n",
      "6/6 [==============================] - 0s 3ms/step - loss: 23697732.2857 - mae: 3429.9683\n",
      "Epoch 57/100\n",
      "6/6 [==============================] - 0s 3ms/step - loss: 20077094.5714 - mae: 3073.8737\n",
      "Epoch 58/100\n",
      "6/6 [==============================] - 0s 3ms/step - loss: 20644497.0000 - mae: 3015.0794\n",
      "Epoch 59/100\n",
      "6/6 [==============================] - 0s 2ms/step - loss: 23057674.2857 - mae: 3309.9843\n",
      "Epoch 60/100\n",
      "6/6 [==============================] - 0s 2ms/step - loss: 20998735.1429 - mae: 3163.3463\n",
      "Epoch 61/100\n",
      "6/6 [==============================] - 0s 2ms/step - loss: 18189816.4286 - mae: 2831.6218\n",
      "Epoch 62/100\n",
      "6/6 [==============================] - 0s 3ms/step - loss: 23836826.5714 - mae: 3188.9984\n",
      "Epoch 63/100\n",
      "6/6 [==============================] - 0s 2ms/step - loss: 20816178.7143 - mae: 3124.6525\n",
      "Epoch 64/100\n",
      "6/6 [==============================] - 0s 3ms/step - loss: 21670606.5714 - mae: 3273.8086\n",
      "Epoch 65/100\n",
      "6/6 [==============================] - 0s 3ms/step - loss: 26178573.7143 - mae: 3472.0681\n",
      "Epoch 66/100\n",
      "6/6 [==============================] - 0s 3ms/step - loss: 22015392.5714 - mae: 3030.0254\n",
      "Epoch 67/100\n",
      "6/6 [==============================] - 0s 2ms/step - loss: 23537512.2857 - mae: 3124.2234\n",
      "Epoch 68/100\n",
      "6/6 [==============================] - 0s 2ms/step - loss: 21218613.1429 - mae: 2981.9457\n",
      "Epoch 69/100\n",
      "6/6 [==============================] - 0s 2ms/step - loss: 21976760.2857 - mae: 3066.6705\n",
      "Epoch 70/100\n",
      "6/6 [==============================] - 0s 3ms/step - loss: 21666771.7143 - mae: 3307.7429\n",
      "Epoch 71/100\n",
      "6/6 [==============================] - 0s 3ms/step - loss: 23741723.1429 - mae: 3305.6144\n",
      "Epoch 72/100\n",
      "6/6 [==============================] - 0s 2ms/step - loss: 22220443.7143 - mae: 2966.4695\n",
      "Epoch 73/100\n",
      "6/6 [==============================] - 0s 2ms/step - loss: 20956241.1429 - mae: 3039.9470\n",
      "Epoch 74/100\n",
      "6/6 [==============================] - 0s 2ms/step - loss: 21844955.4286 - mae: 3144.8209\n",
      "Epoch 75/100\n",
      "6/6 [==============================] - 0s 3ms/step - loss: 22085459.4286 - mae: 3169.6178\n",
      "Epoch 76/100\n",
      "6/6 [==============================] - 0s 3ms/step - loss: 20586260.2857 - mae: 2880.6562\n",
      "Epoch 77/100\n",
      "6/6 [==============================] - 0s 3ms/step - loss: 23720272.0000 - mae: 3220.2347\n",
      "Epoch 78/100\n",
      "6/6 [==============================] - 0s 3ms/step - loss: 25242866.0000 - mae: 3425.4302\n",
      "Epoch 79/100\n",
      "6/6 [==============================] - 0s 2ms/step - loss: 17638831.0000 - mae: 2896.1117\n",
      "Epoch 80/100\n",
      "6/6 [==============================] - 0s 2ms/step - loss: 17908967.2857 - mae: 2991.2927\n",
      "Epoch 81/100\n",
      "6/6 [==============================] - 0s 3ms/step - loss: 20279773.1429 - mae: 3203.8710\n",
      "Epoch 82/100\n",
      "6/6 [==============================] - 0s 3ms/step - loss: 18945171.2857 - mae: 2926.2644\n",
      "Epoch 83/100\n",
      "6/6 [==============================] - 0s 2ms/step - loss: 20881862.2857 - mae: 2983.0087\n",
      "Epoch 84/100\n",
      "6/6 [==============================] - 0s 2ms/step - loss: 20820211.1429 - mae: 3145.8434\n",
      "Epoch 85/100\n",
      "6/6 [==============================] - 0s 2ms/step - loss: 23967018.0000 - mae: 3116.5931\n",
      "Epoch 86/100\n",
      "6/6 [==============================] - 0s 2ms/step - loss: 26446214.2857 - mae: 3188.7543\n",
      "Epoch 87/100\n",
      "6/6 [==============================] - 0s 2ms/step - loss: 26777606.8571 - mae: 3214.2472\n",
      "Epoch 88/100\n",
      "6/6 [==============================] - 0s 2ms/step - loss: 22463545.1429 - mae: 2969.3439\n",
      "Epoch 89/100\n",
      "6/6 [==============================] - 0s 2ms/step - loss: 20917784.0000 - mae: 3036.7540\n",
      "Epoch 90/100\n",
      "6/6 [==============================] - 0s 3ms/step - loss: 19753107.5714 - mae: 2864.2561\n",
      "Epoch 91/100\n",
      "6/6 [==============================] - 0s 3ms/step - loss: 20738471.7143 - mae: 2984.1846\n",
      "Epoch 92/100\n",
      "6/6 [==============================] - 0s 3ms/step - loss: 20572309.7143 - mae: 3169.3485\n",
      "Epoch 93/100\n",
      "6/6 [==============================] - 0s 3ms/step - loss: 21157253.4286 - mae: 3022.3006\n",
      "Epoch 94/100\n",
      "6/6 [==============================] - 0s 2ms/step - loss: 23951288.8571 - mae: 3080.2671\n",
      "Epoch 95/100\n",
      "6/6 [==============================] - 0s 2ms/step - loss: 16081150.9286 - mae: 2691.2812\n",
      "Epoch 96/100\n",
      "6/6 [==============================] - 0s 3ms/step - loss: 21125042.0000 - mae: 3395.5028\n",
      "Epoch 97/100\n",
      "6/6 [==============================] - 0s 2ms/step - loss: 19578455.4286 - mae: 3328.4835\n",
      "Epoch 98/100\n",
      "6/6 [==============================] - 0s 2ms/step - loss: 19420312.8571 - mae: 2854.0809\n",
      "Epoch 99/100\n",
      "6/6 [==============================] - 0s 3ms/step - loss: 21471337.5714 - mae: 2972.1762\n",
      "Epoch 100/100\n",
      "6/6 [==============================] - 0s 3ms/step - loss: 19608712.2857 - mae: 2887.9959\n"
     ]
    },
    {
     "data": {
      "text/plain": [
       "<tensorflow.python.keras.callbacks.History at 0x2919c4b4310>"
      ]
     },
     "execution_count": 60,
     "metadata": {},
     "output_type": "execute_result"
    }
   ],
   "source": [
    "model.fit(X_train, y_train, epochs=100, verbose=1)"
   ]
  },
  {
   "cell_type": "code",
   "execution_count": null,
   "metadata": {
    "id": "CYd_-PSLk_sx"
   },
   "outputs": [],
   "source": []
  },
  {
   "cell_type": "code",
   "execution_count": null,
   "metadata": {
    "colab": {
     "base_uri": "https://localhost:8080/"
    },
    "id": "Yccif02N81LG",
    "outputId": "4865daa3-0a83-4966-f220-02a46a66d79f"
   },
   "outputs": [],
   "source": []
  },
  {
   "cell_type": "markdown",
   "metadata": {
    "id": "-G1M9m-Y914l"
   },
   "source": [
    "#### For testing"
   ]
  },
  {
   "cell_type": "code",
   "execution_count": 61,
   "metadata": {
    "colab": {
     "base_uri": "https://localhost:8080/"
    },
    "id": "MUy3HPja91O8",
    "outputId": "4bc02633-c6fa-4462-bc2e-ae5460619e19"
   },
   "outputs": [
    {
     "name": "stdout",
     "output_type": "stream",
     "text": [
      "(41, 36) [41]\n"
     ]
    }
   ],
   "source": [
    "print(X_test.shape, np.asarray(y_test.shape) )"
   ]
  },
  {
   "cell_type": "code",
   "execution_count": 62,
   "metadata": {
    "colab": {
     "base_uri": "https://localhost:8080/"
    },
    "id": "wc0MysxQ8568",
    "outputId": "39bc89d4-10a7-4c0f-f7d2-2d56f70ac4e6"
   },
   "outputs": [
    {
     "name": "stdout",
     "output_type": "stream",
     "text": [
      "[[11272.241]] [10245.]\n"
     ]
    }
   ],
   "source": [
    "index = 10\n",
    "# X_test.head()\n",
    "ans = model.predict( X_test[index-1:index] )\n",
    "print( ans, np.asarray(y_test[index-1:index]) )"
   ]
  },
  {
   "cell_type": "code",
   "execution_count": null,
   "metadata": {
    "id": "xATWluUq9Toq"
   },
   "outputs": [],
   "source": []
  }
 ],
 "metadata": {
  "colab": {
   "collapsed_sections": [],
   "name": "Car_Price_Prediction_assignment.ipynb",
   "provenance": [],
   "toc_visible": true
  },
  "kernelspec": {
   "display_name": "Python 3",
   "language": "python",
   "name": "python3"
  },
  "language_info": {
   "codemirror_mode": {
    "name": "ipython",
    "version": 3
   },
   "file_extension": ".py",
   "mimetype": "text/x-python",
   "name": "python",
   "nbconvert_exporter": "python",
   "pygments_lexer": "ipython3",
   "version": "3.8.6rc1"
  }
 },
 "nbformat": 4,
 "nbformat_minor": 4
}
